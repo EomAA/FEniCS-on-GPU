{
  "nbformat": 4,
  "nbformat_minor": 0,
  "metadata": {
    "colab": {
      "name": "Untitled6.ipynb",
      "provenance": [],
      "private_outputs": true,
      "collapsed_sections": []
    },
    "kernelspec": {
      "name": "python3",
      "display_name": "Python 3"
    },
    "accelerator": "GPU"
  },
  "cells": [
    {
      "cell_type": "markdown",
      "metadata": {
        "id": "Tg7RIY-Od2oM",
        "colab_type": "text"
      },
      "source": [
        "# FEniCS on GPU\n",
        "Author Ghanshyam Chandra"
      ]
    },
    {
      "cell_type": "code",
      "metadata": {
        "id": "Ze-0sVZlHAjL",
        "colab_type": "code",
        "colab": {
          "base_uri": "https://localhost:8080/",
          "height": 357
        },
        "outputId": "732941a1-7c2a-420f-bde5-52150e01e063"
      },
      "source": [
        "!nvidia-smi"
      ],
      "execution_count": 1,
      "outputs": [
        {
          "output_type": "stream",
          "text": [
            "Sat Jul 18 13:32:30 2020       \n",
            "+-----------------------------------------------------------------------------+\n",
            "| NVIDIA-SMI 450.51.05    Driver Version: 418.67       CUDA Version: 10.1     |\n",
            "|-------------------------------+----------------------+----------------------+\n",
            "| GPU  Name        Persistence-M| Bus-Id        Disp.A | Volatile Uncorr. ECC |\n",
            "| Fan  Temp  Perf  Pwr:Usage/Cap|         Memory-Usage | GPU-Util  Compute M. |\n",
            "|                               |                      |               MIG M. |\n",
            "|===============================+======================+======================|\n",
            "|   0  Tesla K80           Off  | 00000000:00:04.0 Off |                    0 |\n",
            "| N/A   32C    P8    28W / 149W |      1MiB / 11441MiB |      0%      Default |\n",
            "|                               |                      |                 ERR! |\n",
            "+-------------------------------+----------------------+----------------------+\n",
            "                                                                               \n",
            "+-----------------------------------------------------------------------------+\n",
            "| Processes:                                                                  |\n",
            "|  GPU   GI   CI        PID   Type   Process name                  GPU Memory |\n",
            "|        ID   ID                                                   Usage      |\n",
            "|=============================================================================|\n",
            "|  No running processes found                                                 |\n",
            "+-----------------------------------------------------------------------------+\n"
          ],
          "name": "stdout"
        }
      ]
    },
    {
      "cell_type": "code",
      "metadata": {
        "id": "g21P5E1fGVu5",
        "colab_type": "code",
        "colab": {
          "base_uri": "https://localhost:8080/",
          "height": 85
        },
        "outputId": "e31e0173-2cbd-4298-dc3c-1a5266f7cea0"
      },
      "source": [
        "!pip3 install cupy-cuda101"
      ],
      "execution_count": 2,
      "outputs": [
        {
          "output_type": "stream",
          "text": [
            "Requirement already satisfied: cupy-cuda101 in /usr/local/lib/python3.6/dist-packages (7.4.0)\n",
            "Requirement already satisfied: fastrlock>=0.3 in /usr/local/lib/python3.6/dist-packages (from cupy-cuda101) (0.5)\n",
            "Requirement already satisfied: numpy>=1.9.0 in /usr/local/lib/python3.6/dist-packages (from cupy-cuda101) (1.18.5)\n",
            "Requirement already satisfied: six>=1.9.0 in /usr/local/lib/python3.6/dist-packages (from cupy-cuda101) (1.12.0)\n"
          ],
          "name": "stdout"
        }
      ]
    },
    {
      "cell_type": "code",
      "metadata": {
        "id": "SbU2VGVrGZ6y",
        "colab_type": "code",
        "colab": {
          "base_uri": "https://localhost:8080/",
          "height": 1000
        },
        "outputId": "1e27db3c-95f5-4a48-a2d6-eef34e99ef70"
      },
      "source": [
        "!sudo apt-get install software-properties-common\n",
        "!sudo add-apt-repository ppa:fenics-packages/fenics\n",
        "!sudo apt-get update\n",
        "!sudo apt-get install --no-install-recommends fenics"
      ],
      "execution_count": 3,
      "outputs": [
        {
          "output_type": "stream",
          "text": [
            "\rReading package lists... 0%\r\rReading package lists... 0%\r\rReading package lists... 0%\r\rReading package lists... 6%\r\rReading package lists... 6%\r\rReading package lists... 6%\r\rReading package lists... 6%\r\rReading package lists... 61%\r\rReading package lists... 61%\r\rReading package lists... 62%\r\rReading package lists... 62%\r\rReading package lists... 70%\r\rReading package lists... 70%\r\rReading package lists... 71%\r\rReading package lists... 71%\r\rReading package lists... 73%\r\rReading package lists... 80%\r\rReading package lists... 80%\r\rReading package lists... 80%\r\rReading package lists... 80%\r\rReading package lists... 80%\r\rReading package lists... 80%\r\rReading package lists... 80%\r\rReading package lists... 80%\r\rReading package lists... 86%\r\rReading package lists... 86%\r\rReading package lists... 87%\r\rReading package lists... 87%\r\rReading package lists... 93%\r\rReading package lists... 93%\r\rReading package lists... 93%\r\rReading package lists... 93%\r\rReading package lists... 93%\r\rReading package lists... 93%\r\rReading package lists... 94%\r\rReading package lists... 94%\r\rReading package lists... 95%\r\rReading package lists... 95%\r\rReading package lists... 98%\r\rReading package lists... 98%\r\rReading package lists... 98%\r\rReading package lists... 98%\r\rReading package lists... Done\r\n",
            "\rBuilding dependency tree... 0%\r\rBuilding dependency tree... 0%\r\rBuilding dependency tree... 50%\r\rBuilding dependency tree... 50%\r\rBuilding dependency tree       \r\n",
            "\rReading state information... 0%\r\rReading state information... 0%\r\rReading state information... Done\r\n",
            "software-properties-common is already the newest version (0.96.24.32.13).\n",
            "The following package was automatically installed and is no longer required:\n",
            "  libnvidia-common-440\n",
            "Use 'sudo apt autoremove' to remove it.\n",
            "0 upgraded, 0 newly installed, 0 to remove and 35 not upgraded.\n",
            " This PPA provides packages for the FEniCS project.\n",
            "\n",
            "To use this PPA, please follow the instructions at http://fenicsproject.org.\n",
            " More info: https://launchpad.net/~fenics-packages/+archive/ubuntu/fenics\n",
            "Press [ENTER] to continue or Ctrl-c to cancel adding it.\n",
            "\n",
            "Get:1 http://security.ubuntu.com/ubuntu bionic-security InRelease [88.7 kB]\n",
            "Get:2 https://cloud.r-project.org/bin/linux/ubuntu bionic-cran35/ InRelease [3,626 B]\n",
            "Ign:3 https://developer.download.nvidia.com/compute/cuda/repos/ubuntu1804/x86_64  InRelease\n",
            "Hit:4 http://archive.ubuntu.com/ubuntu bionic InRelease\n",
            "Ign:5 https://developer.download.nvidia.com/compute/machine-learning/repos/ubuntu1804/x86_64  InRelease\n",
            "Hit:6 https://developer.download.nvidia.com/compute/cuda/repos/ubuntu1804/x86_64  Release\n",
            "Hit:7 https://developer.download.nvidia.com/compute/machine-learning/repos/ubuntu1804/x86_64  Release\n",
            "Get:8 http://ppa.launchpad.net/fenics-packages/fenics/ubuntu bionic InRelease [15.4 kB]\n",
            "Get:9 http://archive.ubuntu.com/ubuntu bionic-updates InRelease [88.7 kB]\n",
            "Get:10 http://security.ubuntu.com/ubuntu bionic-security/restricted amd64 Packages [89.9 kB]\n",
            "Get:11 http://security.ubuntu.com/ubuntu bionic-security/multiverse amd64 Packages [9,279 B]\n",
            "Get:12 http://security.ubuntu.com/ubuntu bionic-security/main amd64 Packages [1,005 kB]\n",
            "Get:13 http://ppa.launchpad.net/graphics-drivers/ppa/ubuntu bionic InRelease [21.3 kB]\n",
            "Get:14 http://security.ubuntu.com/ubuntu bionic-security/universe amd64 Packages [869 kB]\n",
            "Get:16 http://archive.ubuntu.com/ubuntu bionic-backports InRelease [74.6 kB]\n",
            "Get:18 http://ppa.launchpad.net/marutter/c2d4u3.5/ubuntu bionic InRelease [15.4 kB]\n",
            "Get:19 http://archive.ubuntu.com/ubuntu bionic-updates/main amd64 Packages [1,307 kB]\n",
            "Get:20 http://ppa.launchpad.net/fenics-packages/fenics/ubuntu bionic/main amd64 Packages [5,700 B]\n",
            "Get:21 http://ppa.launchpad.net/graphics-drivers/ppa/ubuntu bionic/main amd64 Packages [43.3 kB]\n",
            "Get:22 http://archive.ubuntu.com/ubuntu bionic-updates/restricted amd64 Packages [104 kB]\n",
            "Get:23 http://archive.ubuntu.com/ubuntu bionic-updates/universe amd64 Packages [1,407 kB]\n",
            "Get:24 http://archive.ubuntu.com/ubuntu bionic-updates/multiverse amd64 Packages [13.6 kB]\n",
            "Get:25 http://archive.ubuntu.com/ubuntu bionic-backports/universe amd64 Packages [8,432 B]\n",
            "Get:26 http://ppa.launchpad.net/marutter/c2d4u3.5/ubuntu bionic/main Sources [1,849 kB]\n",
            "Get:27 http://ppa.launchpad.net/marutter/c2d4u3.5/ubuntu bionic/main amd64 Packages [892 kB]\n",
            "Fetched 7,910 kB in 3s (2,453 kB/s)\n",
            "Reading package lists... Done\n",
            "Hit:1 http://security.ubuntu.com/ubuntu bionic-security InRelease\n",
            "Hit:2 https://cloud.r-project.org/bin/linux/ubuntu bionic-cran35/ InRelease\n",
            "Ign:3 https://developer.download.nvidia.com/compute/cuda/repos/ubuntu1804/x86_64  InRelease\n",
            "Ign:4 https://developer.download.nvidia.com/compute/machine-learning/repos/ubuntu1804/x86_64  InRelease\n",
            "Hit:5 https://developer.download.nvidia.com/compute/cuda/repos/ubuntu1804/x86_64  Release\n",
            "Hit:6 http://ppa.launchpad.net/fenics-packages/fenics/ubuntu bionic InRelease\n",
            "Hit:7 https://developer.download.nvidia.com/compute/machine-learning/repos/ubuntu1804/x86_64  Release\n",
            "Hit:8 http://archive.ubuntu.com/ubuntu bionic InRelease\n",
            "Hit:9 http://archive.ubuntu.com/ubuntu bionic-updates InRelease\n",
            "Hit:11 http://ppa.launchpad.net/graphics-drivers/ppa/ubuntu bionic InRelease\n",
            "Hit:12 http://archive.ubuntu.com/ubuntu bionic-backports InRelease\n",
            "Hit:14 http://ppa.launchpad.net/marutter/c2d4u3.5/ubuntu bionic InRelease\n",
            "Reading package lists... Done\n",
            "Reading package lists... Done\n",
            "Building dependency tree       \n",
            "Reading state information... Done\n",
            "The following package was automatically installed and is no longer required:\n",
            "  libnvidia-common-440\n",
            "Use 'sudo apt autoremove' to remove it.\n",
            "The following additional packages will be installed:\n",
            "  dolfin-bin dolfin-doc libamd2 libarpack2-dev libblas-dev libblas3 libbtf1\n",
            "  libcamd2 libccolamd2 libcholmod3 libcolamd2 libcxsparse3 libdolfin-dev\n",
            "  libdolfin2019.1 libeigen3-dev libfftw3-bin libfftw3-dev libfftw3-long3\n",
            "  libfftw3-mpi-dev libfftw3-mpi3 libfftw3-quad3 libfftw3-single3 libgraphblas1\n",
            "  libhdf5-mpi-dev libhdf5-openmpi-dev libhypre-2.13.0 libhypre-dev libklu1\n",
            "  libldl2 libmetis5 libmshr-dev libmshr2019.1 libmumps-5.1.2 libmumps-dev\n",
            "  libparpack2 libparpack2-dev libpetsc3.7.7 libpetsc3.7.7-dev libproj-dev\n",
            "  libptscotch-6.0 libptscotch-dev librbio2 libscalapack-mpi-dev\n",
            "  libscalapack-openmpi-dev libscalapack-openmpi2.0 libscotch-6.0 libscotch-dev\n",
            "  libslepc3.7.4 libslepc3.7.4-dev libspooles-dev libspooles2.2 libspqr2\n",
            "  libsuitesparse-dev libsuitesparseconfig5 libsuperlu-dev libsuperlu-dist5\n",
            "  libtet1.5 libumfpack5 pybind11-dev python-ufl-doc python3-dijitso\n",
            "  python3-dolfin python3-ffc python3-fiat python3-mpi4py python3-mpmath\n",
            "  python3-mshr python3-petsc4py python3-pkg-resources python3-pkgconfig\n",
            "  python3-ply python3-pybind11 python3-six python3-slepc4py python3-sympy\n",
            "  python3-ufl\n",
            "Suggested packages:\n",
            "  liblapack-doc libeigen3-doc libmrpt-dev libfftw3-doc libhdf5-doc petsc-dev\n",
            "  libpetsc3.7.7-dbg petsc3.7.7-doc libluminate-dev proj-bin scalapack-doc\n",
            "  slepc3.7.4-doc spooles-doc libsuperlu-doc pybind11-doc python-dijitso-doc\n",
            "  python3-gmpy2 python3-matplotlib python-mpmath-doc python3-setuptools\n",
            "  python-ply-doc texlive-fonts-extra dvipng python-sympy-doc\n",
            "Recommended packages:\n",
            "  tcsh | csh | c-shell ksh | mksh | pdksh | zsh python-petsc4py-docs\n",
            "  python-slepc4py-docs python3-pil ipython3\n",
            "The following NEW packages will be installed:\n",
            "  dolfin-bin dolfin-doc fenics libamd2 libarpack2-dev libblas-dev libblas3\n",
            "  libbtf1 libcamd2 libccolamd2 libcholmod3 libcolamd2 libcxsparse3\n",
            "  libdolfin-dev libdolfin2019.1 libeigen3-dev libfftw3-bin libfftw3-dev\n",
            "  libfftw3-long3 libfftw3-mpi-dev libfftw3-mpi3 libfftw3-quad3\n",
            "  libfftw3-single3 libgraphblas1 libhdf5-mpi-dev libhdf5-openmpi-dev\n",
            "  libhypre-2.13.0 libhypre-dev libklu1 libldl2 libmetis5 libmshr-dev\n",
            "  libmshr2019.1 libmumps-5.1.2 libmumps-dev libparpack2 libparpack2-dev\n",
            "  libpetsc3.7.7 libpetsc3.7.7-dev libproj-dev libptscotch-6.0 libptscotch-dev\n",
            "  librbio2 libscalapack-mpi-dev libscalapack-openmpi-dev\n",
            "  libscalapack-openmpi2.0 libscotch-6.0 libscotch-dev libslepc3.7.4\n",
            "  libslepc3.7.4-dev libspooles-dev libspooles2.2 libspqr2 libsuitesparse-dev\n",
            "  libsuitesparseconfig5 libsuperlu-dev libsuperlu-dist5 libtet1.5 libumfpack5\n",
            "  pybind11-dev python-ufl-doc python3-dijitso python3-dolfin python3-ffc\n",
            "  python3-fiat python3-mpi4py python3-mpmath python3-mshr python3-petsc4py\n",
            "  python3-pkg-resources python3-pkgconfig python3-ply python3-pybind11\n",
            "  python3-six python3-slepc4py python3-sympy python3-ufl\n",
            "0 upgraded, 77 newly installed, 0 to remove and 66 not upgraded.\n",
            "Need to get 50.6 MB of archives.\n",
            "After this operation, 267 MB of additional disk space will be used.\n",
            "Get:1 http://archive.ubuntu.com/ubuntu bionic/main amd64 libsuitesparseconfig5 amd64 1:5.1.2-2 [9,044 B]\n",
            "Get:2 http://archive.ubuntu.com/ubuntu bionic/main amd64 libamd2 amd64 1:5.1.2-2 [19.5 kB]\n",
            "Get:3 http://ppa.launchpad.net/fenics-packages/fenics/ubuntu bionic/main amd64 libdolfin2019.1 amd64 2019.1.0-1~ppa1~bionic4 [1,704 kB]\n",
            "Get:4 http://archive.ubuntu.com/ubuntu bionic/main amd64 libblas3 amd64 3.7.1-4ubuntu1 [140 kB]\n",
            "Get:5 http://archive.ubuntu.com/ubuntu bionic/main amd64 libcamd2 amd64 1:5.1.2-2 [20.9 kB]\n",
            "Get:6 http://archive.ubuntu.com/ubuntu bionic/main amd64 libccolamd2 amd64 1:5.1.2-2 [21.7 kB]\n",
            "Get:7 http://archive.ubuntu.com/ubuntu bionic/main amd64 libcolamd2 amd64 1:5.1.2-2 [16.2 kB]\n",
            "Get:8 http://archive.ubuntu.com/ubuntu bionic/main amd64 libmetis5 amd64 5.1.0.dfsg-5 [169 kB]\n",
            "Get:9 http://archive.ubuntu.com/ubuntu bionic/main amd64 libcholmod3 amd64 1:5.1.2-2 [300 kB]\n",
            "Get:10 http://archive.ubuntu.com/ubuntu bionic/main amd64 libfftw3-long3 amd64 3.3.7-1 [308 kB]\n",
            "Get:11 http://archive.ubuntu.com/ubuntu bionic/main amd64 libfftw3-single3 amd64 3.3.7-1 [764 kB]\n",
            "Get:12 http://archive.ubuntu.com/ubuntu bionic/universe amd64 libfftw3-mpi3 amd64 3.3.7-1 [47.5 kB]\n",
            "Get:13 http://archive.ubuntu.com/ubuntu bionic/universe amd64 libscotch-6.0 amd64 6.0.4.dfsg1-8 [403 kB]\n",
            "Get:14 http://archive.ubuntu.com/ubuntu bionic/universe amd64 libptscotch-6.0 amd64 6.0.4.dfsg1-8 [654 kB]\n",
            "Get:15 http://archive.ubuntu.com/ubuntu bionic/universe amd64 libsuperlu-dist5 amd64 5.3.0+dfsg1-1 [213 kB]\n",
            "Get:16 http://archive.ubuntu.com/ubuntu bionic/universe amd64 libhypre-2.13.0 amd64 2.13.0-2 [1,718 kB]\n",
            "Get:17 http://archive.ubuntu.com/ubuntu bionic/main amd64 libbtf1 amd64 1:5.1.2-2 [10.6 kB]\n",
            "Get:18 http://archive.ubuntu.com/ubuntu bionic/main amd64 libklu1 amd64 1:5.1.2-2 [69.3 kB]\n",
            "Get:19 http://archive.ubuntu.com/ubuntu bionic/universe amd64 libscalapack-openmpi2.0 amd64 2.0.2-4 [1,473 kB]\n",
            "Get:20 http://archive.ubuntu.com/ubuntu bionic/universe amd64 libmumps-5.1.2 amd64 5.1.2-4 [1,103 kB]\n",
            "Get:21 http://archive.ubuntu.com/ubuntu bionic/main amd64 libumfpack5 amd64 1:5.1.2-2 [229 kB]\n",
            "Get:22 http://archive.ubuntu.com/ubuntu bionic/universe amd64 libpetsc3.7.7 amd64 3.7.7+dfsg1-2build5 [3,935 kB]\n",
            "Get:23 http://archive.ubuntu.com/ubuntu bionic/universe amd64 libparpack2 amd64 3.5.0+real-2 [84.5 kB]\n",
            "Get:24 http://archive.ubuntu.com/ubuntu bionic/universe amd64 libslepc3.7.4 amd64 3.7.4+dfsg1-2build8 [743 kB]\n",
            "Get:25 http://ppa.launchpad.net/fenics-packages/fenics/ubuntu bionic/main amd64 python3-fiat all 2019.1.0-1~ppa1~bionic1 [55.9 kB]\n",
            "Get:26 http://archive.ubuntu.com/ubuntu bionic/universe amd64 libeigen3-dev all 3.3.4-4 [810 kB]\n",
            "Get:27 http://archive.ubuntu.com/ubuntu bionic/universe amd64 libhdf5-openmpi-dev amd64 1.10.0-patch1+docs-4 [2,392 kB]\n",
            "Get:28 http://archive.ubuntu.com/ubuntu bionic/universe amd64 libhdf5-mpi-dev amd64 1.10.0-patch1+docs-4 [3,074 B]\n",
            "Get:29 http://archive.ubuntu.com/ubuntu bionic/main amd64 libcxsparse3 amd64 1:5.1.2-2 [63.9 kB]\n",
            "Get:30 http://archive.ubuntu.com/ubuntu bionic/main amd64 libgraphblas1 amd64 1:5.1.2-2 [384 kB]\n",
            "Get:31 http://archive.ubuntu.com/ubuntu bionic/main amd64 libldl2 amd64 1:5.1.2-2 [10.3 kB]\n",
            "Get:32 http://archive.ubuntu.com/ubuntu bionic/main amd64 librbio2 amd64 1:5.1.2-2 [24.0 kB]\n",
            "Get:33 http://archive.ubuntu.com/ubuntu bionic/main amd64 libspqr2 amd64 1:5.1.2-2 [64.2 kB]\n",
            "Get:34 http://archive.ubuntu.com/ubuntu bionic/main amd64 libblas-dev amd64 3.7.1-4ubuntu1 [143 kB]\n",
            "Get:35 http://archive.ubuntu.com/ubuntu bionic/main amd64 libsuitesparse-dev amd64 1:5.1.2-2 [1,235 kB]\n",
            "Get:36 http://archive.ubuntu.com/ubuntu bionic/universe amd64 libscotch-dev amd64 6.0.4.dfsg1-8 [1,791 kB]\n",
            "Get:37 http://archive.ubuntu.com/ubuntu bionic/universe amd64 python3-mpmath all 1.0.0-1 [400 kB]\n",
            "Get:38 http://archive.ubuntu.com/ubuntu bionic/universe amd64 python3-sympy all 1.1.1-5 [2,569 kB]\n",
            "Get:39 http://archive.ubuntu.com/ubuntu bionic/main amd64 python3-pkg-resources all 39.0.1-2 [98.8 kB]\n",
            "Get:40 http://archive.ubuntu.com/ubuntu bionic/universe amd64 python3-mpi4py amd64 2.0.0-3 [420 kB]\n",
            "Get:41 http://archive.ubuntu.com/ubuntu bionic/universe amd64 libspooles2.2 amd64 2.2-12build1 [458 kB]\n",
            "Get:42 http://archive.ubuntu.com/ubuntu bionic/universe amd64 libspooles-dev amd64 2.2-12build1 [587 kB]\n",
            "Get:43 http://archive.ubuntu.com/ubuntu bionic/universe amd64 libsuperlu-dev amd64 5.2.1+dfsg1-3 [16.3 kB]\n",
            "Get:44 http://archive.ubuntu.com/ubuntu bionic/universe amd64 libhypre-dev amd64 2.13.0-2 [134 kB]\n",
            "Get:45 http://archive.ubuntu.com/ubuntu bionic/universe amd64 libptscotch-dev amd64 6.0.4.dfsg1-8 [5,416 kB]\n",
            "Get:46 http://ppa.launchpad.net/fenics-packages/fenics/ubuntu bionic/main amd64 python3-ufl all 2019.1.0-1~ppa1~bionic1 [149 kB]\n",
            "Get:47 http://archive.ubuntu.com/ubuntu bionic/universe amd64 libscalapack-openmpi-dev amd64 2.0.2-4 [6,068 B]\n",
            "Get:48 http://archive.ubuntu.com/ubuntu bionic/universe amd64 libscalapack-mpi-dev amd64 2.0.2-4 [2,108 B]\n",
            "Get:49 http://archive.ubuntu.com/ubuntu bionic/universe amd64 libmumps-dev amd64 5.1.2-4 [984 kB]\n",
            "Get:50 http://archive.ubuntu.com/ubuntu bionic/main amd64 libfftw3-quad3 amd64 3.3.7-1 [552 kB]\n",
            "Get:51 http://archive.ubuntu.com/ubuntu bionic/main amd64 libfftw3-bin amd64 3.3.7-1 [32.7 kB]\n",
            "Get:52 http://archive.ubuntu.com/ubuntu bionic/main amd64 libfftw3-dev amd64 3.3.7-1 [2,108 kB]\n",
            "Get:53 http://archive.ubuntu.com/ubuntu bionic/universe amd64 libfftw3-mpi-dev amd64 3.3.7-1 [47.6 kB]\n",
            "Get:54 http://archive.ubuntu.com/ubuntu bionic/universe amd64 libpetsc3.7.7-dev amd64 3.7.7+dfsg1-2build5 [3,495 kB]\n",
            "Get:55 http://archive.ubuntu.com/ubuntu bionic/universe amd64 libarpack2-dev amd64 3.5.0+real-2 [97.3 kB]\n",
            "Get:56 http://archive.ubuntu.com/ubuntu bionic/universe amd64 libparpack2-dev amd64 3.5.0+real-2 [92.0 kB]\n",
            "Get:57 http://archive.ubuntu.com/ubuntu bionic/universe amd64 libslepc3.7.4-dev amd64 3.7.4+dfsg1-2build8 [1,701 kB]\n",
            "Get:58 http://archive.ubuntu.com/ubuntu bionic/main amd64 python3-ply all 3.11-1 [46.6 kB]\n",
            "Get:59 http://archive.ubuntu.com/ubuntu bionic/main amd64 python3-six all 1.11.0-2 [11.4 kB]\n",
            "Get:60 http://archive.ubuntu.com/ubuntu bionic/universe amd64 python3-petsc4py amd64 3.7.0-3build2 [719 kB]\n",
            "Get:61 http://archive.ubuntu.com/ubuntu bionic/universe amd64 python3-slepc4py amd64 3.7.0-3build1 [155 kB]\n",
            "Get:62 http://archive.ubuntu.com/ubuntu bionic/universe amd64 python3-pkgconfig all 1.3.1-1 [6,328 B]\n",
            "Get:63 http://archive.ubuntu.com/ubuntu bionic/universe amd64 libtet1.5 amd64 1.5.0-4 [235 kB]\n",
            "Get:64 http://archive.ubuntu.com/ubuntu bionic/universe amd64 libproj-dev amd64 4.9.3-2 [199 kB]\n",
            "Get:65 http://ppa.launchpad.net/fenics-packages/fenics/ubuntu bionic/main amd64 python3-dijitso all 2019.1.0-1~ppa1~bionic1 [24.3 kB]\n",
            "Get:66 http://ppa.launchpad.net/fenics-packages/fenics/ubuntu bionic/main amd64 python3-ffc all 2019.1.0.post0-1~ppa1~bionic1 [224 kB]\n",
            "Get:67 http://ppa.launchpad.net/fenics-packages/fenics/ubuntu bionic/main amd64 libdolfin-dev amd64 2019.1.0-1~ppa1~bionic4 [201 kB]\n",
            "Get:68 http://ppa.launchpad.net/fenics-packages/fenics/ubuntu bionic/main amd64 pybind11-dev all 2.2.3-1fenics1bionic1 [129 kB]\n",
            "Get:69 http://ppa.launchpad.net/fenics-packages/fenics/ubuntu bionic/main amd64 python3-pybind11 all 2.2.3-1fenics1bionic1 [21.5 kB]\n",
            "Get:70 http://ppa.launchpad.net/fenics-packages/fenics/ubuntu bionic/main amd64 python3-dolfin amd64 2019.1.0-1~ppa1~bionic4 [706 kB]\n",
            "Get:71 http://ppa.launchpad.net/fenics-packages/fenics/ubuntu bionic/main amd64 dolfin-bin all 2019.1.0-1~ppa1~bionic4 [22.2 kB]\n",
            "Get:72 http://ppa.launchpad.net/fenics-packages/fenics/ubuntu bionic/main amd64 dolfin-doc all 2019.1.0-1~ppa1~bionic4 [5,780 kB]\n",
            "Get:73 http://ppa.launchpad.net/fenics-packages/fenics/ubuntu bionic/main amd64 python-ufl-doc all 2019.1.0-1~ppa1~bionic1 [13.7 kB]\n",
            "Get:74 http://ppa.launchpad.net/fenics-packages/fenics/ubuntu bionic/main amd64 libmshr2019.1 amd64 2019.1.0+full1-1~ppa1~bionic1 [1,464 kB]\n",
            "Get:75 http://ppa.launchpad.net/fenics-packages/fenics/ubuntu bionic/main amd64 libmshr-dev amd64 2019.1.0+full1-1~ppa1~bionic1 [61.8 kB]\n",
            "Get:76 http://ppa.launchpad.net/fenics-packages/fenics/ubuntu bionic/main amd64 python3-mshr amd64 2019.1.0+full1-1~ppa1~bionic1 [89.9 kB]\n",
            "Get:77 http://ppa.launchpad.net/fenics-packages/fenics/ubuntu bionic/main amd64 fenics amd64 1:2019.1.0.1~ppa1~bionic1 [4,260 B]\n",
            "Fetched 50.6 MB in 9s (5,591 kB/s)\n",
            "debconf: unable to initialize frontend: Dialog\n",
            "debconf: (No usable dialog-like program is installed, so the dialog based frontend cannot be used. at /usr/share/perl5/Debconf/FrontEnd/Dialog.pm line 76, <> line 77.)\n",
            "debconf: falling back to frontend: Readline\n",
            "debconf: unable to initialize frontend: Readline\n",
            "debconf: (This frontend requires a controlling tty.)\n",
            "debconf: falling back to frontend: Teletype\n",
            "dpkg-preconfigure: unable to re-open stdin: \n",
            "Selecting previously unselected package libsuitesparseconfig5:amd64.\n",
            "(Reading database ... 144465 files and directories currently installed.)\n",
            "Preparing to unpack .../00-libsuitesparseconfig5_1%3a5.1.2-2_amd64.deb ...\n",
            "Unpacking libsuitesparseconfig5:amd64 (1:5.1.2-2) ...\n",
            "Selecting previously unselected package libamd2:amd64.\n",
            "Preparing to unpack .../01-libamd2_1%3a5.1.2-2_amd64.deb ...\n",
            "Unpacking libamd2:amd64 (1:5.1.2-2) ...\n",
            "Selecting previously unselected package libblas3:amd64.\n",
            "Preparing to unpack .../02-libblas3_3.7.1-4ubuntu1_amd64.deb ...\n",
            "Unpacking libblas3:amd64 (3.7.1-4ubuntu1) ...\n",
            "Selecting previously unselected package libcamd2:amd64.\n",
            "Preparing to unpack .../03-libcamd2_1%3a5.1.2-2_amd64.deb ...\n",
            "Unpacking libcamd2:amd64 (1:5.1.2-2) ...\n",
            "Selecting previously unselected package libccolamd2:amd64.\n",
            "Preparing to unpack .../04-libccolamd2_1%3a5.1.2-2_amd64.deb ...\n",
            "Unpacking libccolamd2:amd64 (1:5.1.2-2) ...\n",
            "Selecting previously unselected package libcolamd2:amd64.\n",
            "Preparing to unpack .../05-libcolamd2_1%3a5.1.2-2_amd64.deb ...\n",
            "Unpacking libcolamd2:amd64 (1:5.1.2-2) ...\n",
            "Selecting previously unselected package libmetis5:amd64.\n",
            "Preparing to unpack .../06-libmetis5_5.1.0.dfsg-5_amd64.deb ...\n",
            "Unpacking libmetis5:amd64 (5.1.0.dfsg-5) ...\n",
            "Selecting previously unselected package libcholmod3:amd64.\n",
            "Preparing to unpack .../07-libcholmod3_1%3a5.1.2-2_amd64.deb ...\n",
            "Unpacking libcholmod3:amd64 (1:5.1.2-2) ...\n",
            "Selecting previously unselected package libfftw3-long3:amd64.\n",
            "Preparing to unpack .../08-libfftw3-long3_3.3.7-1_amd64.deb ...\n",
            "Unpacking libfftw3-long3:amd64 (3.3.7-1) ...\n",
            "Selecting previously unselected package libfftw3-single3:amd64.\n",
            "Preparing to unpack .../09-libfftw3-single3_3.3.7-1_amd64.deb ...\n",
            "Unpacking libfftw3-single3:amd64 (3.3.7-1) ...\n",
            "Selecting previously unselected package libfftw3-mpi3:amd64.\n",
            "Preparing to unpack .../10-libfftw3-mpi3_3.3.7-1_amd64.deb ...\n",
            "Unpacking libfftw3-mpi3:amd64 (3.3.7-1) ...\n",
            "Selecting previously unselected package libscotch-6.0.\n",
            "Preparing to unpack .../11-libscotch-6.0_6.0.4.dfsg1-8_amd64.deb ...\n",
            "Unpacking libscotch-6.0 (6.0.4.dfsg1-8) ...\n",
            "Selecting previously unselected package libptscotch-6.0.\n",
            "Preparing to unpack .../12-libptscotch-6.0_6.0.4.dfsg1-8_amd64.deb ...\n",
            "Unpacking libptscotch-6.0 (6.0.4.dfsg1-8) ...\n",
            "Selecting previously unselected package libsuperlu-dist5.\n",
            "Preparing to unpack .../13-libsuperlu-dist5_5.3.0+dfsg1-1_amd64.deb ...\n",
            "Unpacking libsuperlu-dist5 (5.3.0+dfsg1-1) ...\n",
            "Selecting previously unselected package libhypre-2.13.0:amd64.\n",
            "Preparing to unpack .../14-libhypre-2.13.0_2.13.0-2_amd64.deb ...\n",
            "Unpacking libhypre-2.13.0:amd64 (2.13.0-2) ...\n",
            "Selecting previously unselected package libbtf1:amd64.\n",
            "Preparing to unpack .../15-libbtf1_1%3a5.1.2-2_amd64.deb ...\n",
            "Unpacking libbtf1:amd64 (1:5.1.2-2) ...\n",
            "Selecting previously unselected package libklu1:amd64.\n",
            "Preparing to unpack .../16-libklu1_1%3a5.1.2-2_amd64.deb ...\n",
            "Unpacking libklu1:amd64 (1:5.1.2-2) ...\n",
            "Selecting previously unselected package libscalapack-openmpi2.0.\n",
            "Preparing to unpack .../17-libscalapack-openmpi2.0_2.0.2-4_amd64.deb ...\n",
            "Unpacking libscalapack-openmpi2.0 (2.0.2-4) ...\n",
            "Selecting previously unselected package libmumps-5.1.2:amd64.\n",
            "Preparing to unpack .../18-libmumps-5.1.2_5.1.2-4_amd64.deb ...\n",
            "Unpacking libmumps-5.1.2:amd64 (5.1.2-4) ...\n",
            "Selecting previously unselected package libumfpack5:amd64.\n",
            "Preparing to unpack .../19-libumfpack5_1%3a5.1.2-2_amd64.deb ...\n",
            "Unpacking libumfpack5:amd64 (1:5.1.2-2) ...\n",
            "Selecting previously unselected package libpetsc3.7.7:amd64.\n",
            "Preparing to unpack .../20-libpetsc3.7.7_3.7.7+dfsg1-2build5_amd64.deb ...\n",
            "Unpacking libpetsc3.7.7:amd64 (3.7.7+dfsg1-2build5) ...\n",
            "Selecting previously unselected package libparpack2:amd64.\n",
            "Preparing to unpack .../21-libparpack2_3.5.0+real-2_amd64.deb ...\n",
            "Unpacking libparpack2:amd64 (3.5.0+real-2) ...\n",
            "Selecting previously unselected package libslepc3.7.4.\n",
            "Preparing to unpack .../22-libslepc3.7.4_3.7.4+dfsg1-2build8_amd64.deb ...\n",
            "Unpacking libslepc3.7.4 (3.7.4+dfsg1-2build8) ...\n",
            "Selecting previously unselected package libdolfin2019.1:amd64.\n",
            "Preparing to unpack .../23-libdolfin2019.1_2019.1.0-1~ppa1~bionic4_amd64.deb ...\n",
            "Unpacking libdolfin2019.1:amd64 (2019.1.0-1~ppa1~bionic4) ...\n",
            "Selecting previously unselected package libeigen3-dev.\n",
            "Preparing to unpack .../24-libeigen3-dev_3.3.4-4_all.deb ...\n",
            "Unpacking libeigen3-dev (3.3.4-4) ...\n",
            "Selecting previously unselected package libhdf5-openmpi-dev.\n",
            "Preparing to unpack .../25-libhdf5-openmpi-dev_1.10.0-patch1+docs-4_amd64.deb ...\n",
            "Unpacking libhdf5-openmpi-dev (1.10.0-patch1+docs-4) ...\n",
            "Selecting previously unselected package libhdf5-mpi-dev.\n",
            "Preparing to unpack .../26-libhdf5-mpi-dev_1.10.0-patch1+docs-4_amd64.deb ...\n",
            "Unpacking libhdf5-mpi-dev (1.10.0-patch1+docs-4) ...\n",
            "Selecting previously unselected package libcxsparse3:amd64.\n",
            "Preparing to unpack .../27-libcxsparse3_1%3a5.1.2-2_amd64.deb ...\n",
            "Unpacking libcxsparse3:amd64 (1:5.1.2-2) ...\n",
            "Selecting previously unselected package libgraphblas1:amd64.\n",
            "Preparing to unpack .../28-libgraphblas1_1%3a5.1.2-2_amd64.deb ...\n",
            "Unpacking libgraphblas1:amd64 (1:5.1.2-2) ...\n",
            "Selecting previously unselected package libldl2:amd64.\n",
            "Preparing to unpack .../29-libldl2_1%3a5.1.2-2_amd64.deb ...\n",
            "Unpacking libldl2:amd64 (1:5.1.2-2) ...\n",
            "Selecting previously unselected package librbio2:amd64.\n",
            "Preparing to unpack .../30-librbio2_1%3a5.1.2-2_amd64.deb ...\n",
            "Unpacking librbio2:amd64 (1:5.1.2-2) ...\n",
            "Selecting previously unselected package libspqr2:amd64.\n",
            "Preparing to unpack .../31-libspqr2_1%3a5.1.2-2_amd64.deb ...\n",
            "Unpacking libspqr2:amd64 (1:5.1.2-2) ...\n",
            "Selecting previously unselected package libblas-dev:amd64.\n",
            "Preparing to unpack .../32-libblas-dev_3.7.1-4ubuntu1_amd64.deb ...\n",
            "Unpacking libblas-dev:amd64 (3.7.1-4ubuntu1) ...\n",
            "Selecting previously unselected package libsuitesparse-dev:amd64.\n",
            "Preparing to unpack .../33-libsuitesparse-dev_1%3a5.1.2-2_amd64.deb ...\n",
            "Unpacking libsuitesparse-dev:amd64 (1:5.1.2-2) ...\n",
            "Selecting previously unselected package libscotch-dev.\n",
            "Preparing to unpack .../34-libscotch-dev_6.0.4.dfsg1-8_amd64.deb ...\n",
            "Unpacking libscotch-dev (6.0.4.dfsg1-8) ...\n",
            "Selecting previously unselected package python3-mpmath.\n",
            "Preparing to unpack .../35-python3-mpmath_1.0.0-1_all.deb ...\n",
            "Unpacking python3-mpmath (1.0.0-1) ...\n",
            "Selecting previously unselected package python3-sympy.\n",
            "Preparing to unpack .../36-python3-sympy_1.1.1-5_all.deb ...\n",
            "Unpacking python3-sympy (1.1.1-5) ...\n",
            "Selecting previously unselected package python3-pkg-resources.\n",
            "Preparing to unpack .../37-python3-pkg-resources_39.0.1-2_all.deb ...\n",
            "Unpacking python3-pkg-resources (39.0.1-2) ...\n",
            "Selecting previously unselected package python3-fiat.\n",
            "Preparing to unpack .../38-python3-fiat_2019.1.0-1~ppa1~bionic1_all.deb ...\n",
            "Unpacking python3-fiat (2019.1.0-1~ppa1~bionic1) ...\n",
            "Selecting previously unselected package python3-ufl.\n",
            "Preparing to unpack .../39-python3-ufl_2019.1.0-1~ppa1~bionic1_all.deb ...\n",
            "Unpacking python3-ufl (2019.1.0-1~ppa1~bionic1) ...\n",
            "Selecting previously unselected package python3-mpi4py.\n",
            "Preparing to unpack .../40-python3-mpi4py_2.0.0-3_amd64.deb ...\n",
            "Unpacking python3-mpi4py (2.0.0-3) ...\n",
            "Selecting previously unselected package python3-dijitso.\n",
            "Preparing to unpack .../41-python3-dijitso_2019.1.0-1~ppa1~bionic1_all.deb ...\n",
            "Unpacking python3-dijitso (2019.1.0-1~ppa1~bionic1) ...\n",
            "Selecting previously unselected package python3-ffc.\n",
            "Preparing to unpack .../42-python3-ffc_2019.1.0.post0-1~ppa1~bionic1_all.deb ...\n",
            "Unpacking python3-ffc (2019.1.0.post0-1~ppa1~bionic1) ...\n",
            "Selecting previously unselected package libspooles2.2:amd64.\n",
            "Preparing to unpack .../43-libspooles2.2_2.2-12build1_amd64.deb ...\n",
            "Unpacking libspooles2.2:amd64 (2.2-12build1) ...\n",
            "Selecting previously unselected package libspooles-dev:amd64.\n",
            "Preparing to unpack .../44-libspooles-dev_2.2-12build1_amd64.deb ...\n",
            "Unpacking libspooles-dev:amd64 (2.2-12build1) ...\n",
            "Selecting previously unselected package libsuperlu-dev:amd64.\n",
            "Preparing to unpack .../45-libsuperlu-dev_5.2.1+dfsg1-3_amd64.deb ...\n",
            "Unpacking libsuperlu-dev:amd64 (5.2.1+dfsg1-3) ...\n",
            "Selecting previously unselected package libhypre-dev:amd64.\n",
            "Preparing to unpack .../46-libhypre-dev_2.13.0-2_amd64.deb ...\n",
            "Unpacking libhypre-dev:amd64 (2.13.0-2) ...\n",
            "Selecting previously unselected package libptscotch-dev.\n",
            "Preparing to unpack .../47-libptscotch-dev_6.0.4.dfsg1-8_amd64.deb ...\n",
            "Unpacking libptscotch-dev (6.0.4.dfsg1-8) ...\n",
            "Selecting previously unselected package libscalapack-openmpi-dev.\n",
            "Preparing to unpack .../48-libscalapack-openmpi-dev_2.0.2-4_amd64.deb ...\n",
            "Unpacking libscalapack-openmpi-dev (2.0.2-4) ...\n",
            "Selecting previously unselected package libscalapack-mpi-dev.\n",
            "Preparing to unpack .../49-libscalapack-mpi-dev_2.0.2-4_amd64.deb ...\n",
            "Unpacking libscalapack-mpi-dev (2.0.2-4) ...\n",
            "Selecting previously unselected package libmumps-dev:amd64.\n",
            "Preparing to unpack .../50-libmumps-dev_5.1.2-4_amd64.deb ...\n",
            "Unpacking libmumps-dev:amd64 (5.1.2-4) ...\n",
            "Selecting previously unselected package libfftw3-quad3:amd64.\n",
            "Preparing to unpack .../51-libfftw3-quad3_3.3.7-1_amd64.deb ...\n",
            "Unpacking libfftw3-quad3:amd64 (3.3.7-1) ...\n",
            "Selecting previously unselected package libfftw3-bin.\n",
            "Preparing to unpack .../52-libfftw3-bin_3.3.7-1_amd64.deb ...\n",
            "Unpacking libfftw3-bin (3.3.7-1) ...\n",
            "Selecting previously unselected package libfftw3-dev:amd64.\n",
            "Preparing to unpack .../53-libfftw3-dev_3.3.7-1_amd64.deb ...\n",
            "Unpacking libfftw3-dev:amd64 (3.3.7-1) ...\n",
            "Selecting previously unselected package libfftw3-mpi-dev:amd64.\n",
            "Preparing to unpack .../54-libfftw3-mpi-dev_3.3.7-1_amd64.deb ...\n",
            "Unpacking libfftw3-mpi-dev:amd64 (3.3.7-1) ...\n",
            "Selecting previously unselected package libpetsc3.7.7-dev:amd64.\n",
            "Preparing to unpack .../55-libpetsc3.7.7-dev_3.7.7+dfsg1-2build5_amd64.deb ...\n",
            "Unpacking libpetsc3.7.7-dev:amd64 (3.7.7+dfsg1-2build5) ...\n",
            "Selecting previously unselected package libarpack2-dev:amd64.\n",
            "Preparing to unpack .../56-libarpack2-dev_3.5.0+real-2_amd64.deb ...\n",
            "Unpacking libarpack2-dev:amd64 (3.5.0+real-2) ...\n",
            "Selecting previously unselected package libparpack2-dev:amd64.\n",
            "Preparing to unpack .../57-libparpack2-dev_3.5.0+real-2_amd64.deb ...\n",
            "Unpacking libparpack2-dev:amd64 (3.5.0+real-2) ...\n",
            "Selecting previously unselected package libslepc3.7.4-dev.\n",
            "Preparing to unpack .../58-libslepc3.7.4-dev_3.7.4+dfsg1-2build8_amd64.deb ...\n",
            "Unpacking libslepc3.7.4-dev (3.7.4+dfsg1-2build8) ...\n",
            "Selecting previously unselected package libdolfin-dev.\n",
            "Preparing to unpack .../59-libdolfin-dev_2019.1.0-1~ppa1~bionic4_amd64.deb ...\n",
            "Unpacking libdolfin-dev (2019.1.0-1~ppa1~bionic4) ...\n",
            "Selecting previously unselected package python3-ply.\n",
            "Preparing to unpack .../60-python3-ply_3.11-1_all.deb ...\n",
            "Unpacking python3-ply (3.11-1) ...\n",
            "Selecting previously unselected package pybind11-dev.\n",
            "Preparing to unpack .../61-pybind11-dev_2.2.3-1fenics1bionic1_all.deb ...\n",
            "Unpacking pybind11-dev (2.2.3-1fenics1bionic1) ...\n",
            "Selecting previously unselected package python3-pybind11.\n",
            "Preparing to unpack .../62-python3-pybind11_2.2.3-1fenics1bionic1_all.deb ...\n",
            "Unpacking python3-pybind11 (2.2.3-1fenics1bionic1) ...\n",
            "Selecting previously unselected package python3-six.\n",
            "Preparing to unpack .../63-python3-six_1.11.0-2_all.deb ...\n",
            "Unpacking python3-six (1.11.0-2) ...\n",
            "Selecting previously unselected package python3-petsc4py.\n",
            "Preparing to unpack .../64-python3-petsc4py_3.7.0-3build2_amd64.deb ...\n",
            "Unpacking python3-petsc4py (3.7.0-3build2) ...\n",
            "Selecting previously unselected package python3-slepc4py.\n",
            "Preparing to unpack .../65-python3-slepc4py_3.7.0-3build1_amd64.deb ...\n",
            "Unpacking python3-slepc4py (3.7.0-3build1) ...\n",
            "Selecting previously unselected package python3-pkgconfig.\n",
            "Preparing to unpack .../66-python3-pkgconfig_1.3.1-1_all.deb ...\n",
            "Unpacking python3-pkgconfig (1.3.1-1) ...\n",
            "Selecting previously unselected package python3-dolfin.\n",
            "Preparing to unpack .../67-python3-dolfin_2019.1.0-1~ppa1~bionic4_amd64.deb ...\n",
            "Unpacking python3-dolfin (2019.1.0-1~ppa1~bionic4) ...\n",
            "Selecting previously unselected package dolfin-bin.\n",
            "Preparing to unpack .../68-dolfin-bin_2019.1.0-1~ppa1~bionic4_all.deb ...\n",
            "Unpacking dolfin-bin (2019.1.0-1~ppa1~bionic4) ...\n",
            "Selecting previously unselected package dolfin-doc.\n",
            "Preparing to unpack .../69-dolfin-doc_2019.1.0-1~ppa1~bionic4_all.deb ...\n",
            "Unpacking dolfin-doc (2019.1.0-1~ppa1~bionic4) ...\n",
            "Selecting previously unselected package python-ufl-doc.\n",
            "Preparing to unpack .../70-python-ufl-doc_2019.1.0-1~ppa1~bionic1_all.deb ...\n",
            "Unpacking python-ufl-doc (2019.1.0-1~ppa1~bionic1) ...\n",
            "Selecting previously unselected package libtet1.5:amd64.\n",
            "Preparing to unpack .../71-libtet1.5_1.5.0-4_amd64.deb ...\n",
            "Unpacking libtet1.5:amd64 (1.5.0-4) ...\n",
            "Selecting previously unselected package libmshr2019.1:amd64.\n",
            "Preparing to unpack .../72-libmshr2019.1_2019.1.0+full1-1~ppa1~bionic1_amd64.deb ...\n",
            "Unpacking libmshr2019.1:amd64 (2019.1.0+full1-1~ppa1~bionic1) ...\n",
            "Selecting previously unselected package libproj-dev:amd64.\n",
            "Preparing to unpack .../73-libproj-dev_4.9.3-2_amd64.deb ...\n",
            "Unpacking libproj-dev:amd64 (4.9.3-2) ...\n",
            "Selecting previously unselected package libmshr-dev.\n",
            "Preparing to unpack .../74-libmshr-dev_2019.1.0+full1-1~ppa1~bionic1_amd64.deb ...\n",
            "Unpacking libmshr-dev (2019.1.0+full1-1~ppa1~bionic1) ...\n",
            "Selecting previously unselected package python3-mshr.\n",
            "Preparing to unpack .../75-python3-mshr_2019.1.0+full1-1~ppa1~bionic1_amd64.deb ...\n",
            "Unpacking python3-mshr (2019.1.0+full1-1~ppa1~bionic1) ...\n",
            "Selecting previously unselected package fenics:amd64.\n",
            "Preparing to unpack .../76-fenics_1%3a2019.1.0.1~ppa1~bionic1_amd64.deb ...\n",
            "Unpacking fenics:amd64 (1:2019.1.0.1~ppa1~bionic1) ...\n",
            "Setting up python3-pkgconfig (1.3.1-1) ...\n",
            "Setting up libbtf1:amd64 (1:5.1.2-2) ...\n",
            "Setting up libldl2:amd64 (1:5.1.2-2) ...\n",
            "Setting up libscotch-6.0 (6.0.4.dfsg1-8) ...\n",
            "Setting up libcxsparse3:amd64 (1:5.1.2-2) ...\n",
            "Setting up libproj-dev:amd64 (4.9.3-2) ...\n",
            "Setting up python-ufl-doc (2019.1.0-1~ppa1~bionic1) ...\n",
            "Setting up libtet1.5:amd64 (1.5.0-4) ...\n",
            "Setting up libscalapack-openmpi2.0 (2.0.2-4) ...\n",
            "Setting up libeigen3-dev (3.3.4-4) ...\n",
            "Setting up libgraphblas1:amd64 (1:5.1.2-2) ...\n",
            "Setting up python3-six (1.11.0-2) ...\n",
            "Setting up libptscotch-6.0 (6.0.4.dfsg1-8) ...\n",
            "Setting up libparpack2:amd64 (3.5.0+real-2) ...\n",
            "Setting up libspooles2.2:amd64 (2.2-12build1) ...\n",
            "Setting up python3-pkg-resources (39.0.1-2) ...\n",
            "Setting up python3-mpmath (1.0.0-1) ...\n",
            "Setting up python3-ufl (2019.1.0-1~ppa1~bionic1) ...\n",
            "Setting up libscalapack-openmpi-dev (2.0.2-4) ...\n",
            "Setting up libhdf5-openmpi-dev (1.10.0-patch1+docs-4) ...\n",
            "update-alternatives: using /usr/bin/h5pcc.openmpi to provide /usr/bin/h5pcc (h5pcc) in auto mode\n",
            "Setting up libfftw3-quad3:amd64 (3.3.7-1) ...\n",
            "Setting up libblas3:amd64 (3.7.1-4ubuntu1) ...\n",
            "Setting up libscotch-dev (6.0.4.dfsg1-8) ...\n",
            "Setting up libsuperlu-dist5 (5.3.0+dfsg1-1) ...\n",
            "Setting up libsuitesparseconfig5:amd64 (1:5.1.2-2) ...\n",
            "Setting up libmetis5:amd64 (5.1.0.dfsg-5) ...\n",
            "Setting up pybind11-dev (2.2.3-1fenics1bionic1) ...\n",
            "Setting up libcolamd2:amd64 (1:5.1.2-2) ...\n",
            "Setting up libarpack2-dev:amd64 (3.5.0+real-2) ...\n",
            "Setting up libccolamd2:amd64 (1:5.1.2-2) ...\n",
            "Setting up libfftw3-single3:amd64 (3.3.7-1) ...\n",
            "Setting up python3-mpi4py (2.0.0-3) ...\n",
            "Setting up python3-ply (3.11-1) ...\n",
            "Setting up python3-sympy (1.1.1-5) ...\n",
            "Setting up libspooles-dev:amd64 (2.2-12build1) ...\n",
            "Setting up libfftw3-long3:amd64 (3.3.7-1) ...\n",
            "Setting up python3-pybind11 (2.2.3-1fenics1bionic1) ...\n",
            "Setting up python3-fiat (2019.1.0-1~ppa1~bionic1) ...\n",
            "Setting up libparpack2-dev:amd64 (3.5.0+real-2) ...\n",
            "Setting up libfftw3-bin (3.3.7-1) ...\n",
            "Setting up libmumps-5.1.2:amd64 (5.1.2-4) ...\n",
            "Setting up libptscotch-dev (6.0.4.dfsg1-8) ...\n",
            "Setting up libblas-dev:amd64 (3.7.1-4ubuntu1) ...\n",
            "Setting up libscalapack-mpi-dev (2.0.2-4) ...\n",
            "Setting up libhypre-2.13.0:amd64 (2.13.0-2) ...\n",
            "Setting up librbio2:amd64 (1:5.1.2-2) ...\n",
            "Setting up libcamd2:amd64 (1:5.1.2-2) ...\n",
            "Setting up libfftw3-mpi3:amd64 (3.3.7-1) ...\n",
            "Setting up libmumps-dev:amd64 (5.1.2-4) ...\n",
            "Setting up python3-dijitso (2019.1.0-1~ppa1~bionic1) ...\n",
            "Setting up libhdf5-mpi-dev (1.10.0-patch1+docs-4) ...\n",
            "Setting up libamd2:amd64 (1:5.1.2-2) ...\n",
            "Setting up libsuperlu-dev:amd64 (5.2.1+dfsg1-3) ...\n",
            "Setting up libfftw3-dev:amd64 (3.3.7-1) ...\n",
            "Setting up python3-ffc (2019.1.0.post0-1~ppa1~bionic1) ...\n",
            "update-alternatives: using /usr/lib/python3/dist-packages/ffc/backends/ufc/ufc.h to provide /usr/include/ufc.h (ufc.h) in auto mode\n",
            "Setting up libfftw3-mpi-dev:amd64 (3.3.7-1) ...\n",
            "Setting up libhypre-dev:amd64 (2.13.0-2) ...\n",
            "Setting up libklu1:amd64 (1:5.1.2-2) ...\n",
            "Setting up libcholmod3:amd64 (1:5.1.2-2) ...\n",
            "Setting up libspqr2:amd64 (1:5.1.2-2) ...\n",
            "Setting up libumfpack5:amd64 (1:5.1.2-2) ...\n",
            "Setting up libpetsc3.7.7:amd64 (3.7.7+dfsg1-2build5) ...\n",
            "update-alternatives: using /usr/lib/x86_64-linux-gnu/libpetsc_real.so.3.7.7 to provide /usr/lib/x86_64-linux-gnu/libpetsc.so.3.7 (libpetsc.so.3.7) in auto mode\n",
            "update-alternatives: using /usr/lib/x86_64-linux-gnu/libpetsc_real.so.3.7.7 to provide /usr/lib/x86_64-linux-gnu/libpetsc_real.so.3.7 (libpetsc_real.so.3.7) in auto mode\n",
            "Setting up python3-petsc4py (3.7.0-3build2) ...\n",
            "Setting up libsuitesparse-dev:amd64 (1:5.1.2-2) ...\n",
            "Setting up libpetsc3.7.7-dev:amd64 (3.7.7+dfsg1-2build5) ...\n",
            "update-alternatives: error: no alternatives for petsc\n",
            "update-alternatives: using /usr/lib/petscdir/3.7.7/x86_64-linux-gnu-real to provide /usr/lib/petsc (petsc) in auto mode\n",
            "update-alternatives: using /usr/lib/x86_64-linux-gnu/libpetsc_real.so.3.7.7 to provide /usr/lib/x86_64-linux-gnu/libpetsc_real.so (libpetsc_real.so) in auto mode\n",
            "update-alternatives: using /usr/lib/petscdir/3.7.7/x86_64-linux-gnu-real to provide /usr/lib/petscdir/3.7 (petsc3.7) in auto mode\n",
            "update-alternatives: using /usr/lib/petscdir/3.7.7/x86_64-linux-gnu-real to provide /usr/lib/petscdir/3.7-real (petsc3.7-real) in auto mode\n",
            "Setting up libslepc3.7.4 (3.7.4+dfsg1-2build8) ...\n",
            "update-alternatives: using /usr/lib/x86_64-linux-gnu/libslepc_real.so.3.7.4 to provide /usr/lib/x86_64-linux-gnu/libslepc.so.3.7 (libslepc.so.3.7) in auto mode\n",
            "update-alternatives: using /usr/lib/x86_64-linux-gnu/libslepc_real.so.3.7.4 to provide /usr/lib/x86_64-linux-gnu/libslepc_real.so.3.7 (libslepc_real.so.3.7) in auto mode\n",
            "Setting up python3-slepc4py (3.7.0-3build1) ...\n",
            "Setting up libslepc3.7.4-dev (3.7.4+dfsg1-2build8) ...\n",
            "update-alternatives: error: no alternatives for slepc\n",
            "update-alternatives: using /usr/lib/slepcdir/3.7.4/x86_64-linux-gnu-real to provide /usr/lib/slepc (slepc) in auto mode\n",
            "update-alternatives: using /usr/lib/x86_64-linux-gnu/libslepc_real.so.3.7.4 to provide /usr/lib/x86_64-linux-gnu/libslepc_real.so (libslepc_real.so) in auto mode\n",
            "update-alternatives: using /usr/lib/slepcdir/3.7.4/x86_64-linux-gnu-real to provide /usr/lib/slepcdir/3.7 (slepc3.7) in auto mode\n",
            "update-alternatives: using /usr/lib/slepcdir/3.7.4/x86_64-linux-gnu-real to provide /usr/lib/slepcdir/3.7-real (slepc3.7-real) in auto mode\n",
            "Setting up libdolfin2019.1:amd64 (2019.1.0-1~ppa1~bionic4) ...\n",
            "Setting up libdolfin-dev (2019.1.0-1~ppa1~bionic4) ...\n",
            "Setting up libmshr2019.1:amd64 (2019.1.0+full1-1~ppa1~bionic1) ...\n",
            "Setting up python3-dolfin (2019.1.0-1~ppa1~bionic4) ...\n",
            "Setting up dolfin-doc (2019.1.0-1~ppa1~bionic4) ...\n",
            "Setting up libmshr-dev (2019.1.0+full1-1~ppa1~bionic1) ...\n",
            "Setting up dolfin-bin (2019.1.0-1~ppa1~bionic4) ...\n",
            "Setting up python3-mshr (2019.1.0+full1-1~ppa1~bionic1) ...\n",
            "Setting up fenics:amd64 (1:2019.1.0.1~ppa1~bionic1) ...\n",
            "Processing triggers for man-db (2.8.3-2ubuntu0.1) ...\n",
            "Processing triggers for libc-bin (2.27-3ubuntu1) ...\n",
            "/sbin/ldconfig.real: /usr/local/lib/python3.6/dist-packages/ideep4py/lib/libmkldnn.so.0 is not a symbolic link\n",
            "\n"
          ],
          "name": "stdout"
        }
      ]
    },
    {
      "cell_type": "code",
      "metadata": {
        "id": "F0UaKPRrGdbn",
        "colab_type": "code",
        "colab": {
          "base_uri": "https://localhost:8080/",
          "height": 136
        },
        "outputId": "5e704908-6fee-48f1-ee51-18b210b17600"
      },
      "source": [
        "!pip3 install matplotlib"
      ],
      "execution_count": 4,
      "outputs": [
        {
          "output_type": "stream",
          "text": [
            "Requirement already satisfied: matplotlib in /usr/local/lib/python3.6/dist-packages (3.2.2)\n",
            "Requirement already satisfied: cycler>=0.10 in /usr/local/lib/python3.6/dist-packages (from matplotlib) (0.10.0)\n",
            "Requirement already satisfied: pyparsing!=2.0.4,!=2.1.2,!=2.1.6,>=2.0.1 in /usr/local/lib/python3.6/dist-packages (from matplotlib) (2.4.7)\n",
            "Requirement already satisfied: python-dateutil>=2.1 in /usr/local/lib/python3.6/dist-packages (from matplotlib) (2.8.1)\n",
            "Requirement already satisfied: numpy>=1.11 in /usr/local/lib/python3.6/dist-packages (from matplotlib) (1.18.5)\n",
            "Requirement already satisfied: kiwisolver>=1.0.1 in /usr/local/lib/python3.6/dist-packages (from matplotlib) (1.2.0)\n",
            "Requirement already satisfied: six in /usr/local/lib/python3.6/dist-packages (from cycler>=0.10->matplotlib) (1.12.0)\n"
          ],
          "name": "stdout"
        }
      ]
    },
    {
      "cell_type": "code",
      "metadata": {
        "id": "dFZ4BdBWGi4i",
        "colab_type": "code",
        "colab": {
          "base_uri": "https://localhost:8080/",
          "height": 51
        },
        "outputId": "9e94bb16-8ab1-4cb8-a0d1-cf6b400238bc"
      },
      "source": [
        "!pip3 install scipy"
      ],
      "execution_count": 5,
      "outputs": [
        {
          "output_type": "stream",
          "text": [
            "Requirement already satisfied: scipy in /usr/local/lib/python3.6/dist-packages (1.4.1)\n",
            "Requirement already satisfied: numpy>=1.13.3 in /usr/local/lib/python3.6/dist-packages (from scipy) (1.18.5)\n"
          ],
          "name": "stdout"
        }
      ]
    },
    {
      "cell_type": "markdown",
      "metadata": {
        "id": "yMxmfBIvdvf-",
        "colab_type": "text"
      },
      "source": [
        "# Importing Libraries"
      ]
    },
    {
      "cell_type": "code",
      "metadata": {
        "id": "Pjh4eYRRGldF",
        "colab_type": "code",
        "colab": {}
      },
      "source": [
        "from fenics import * \n",
        "import fenics as fe\n",
        "import matplotlib.pyplot as plt \n",
        "import numpy as np \n",
        "import time\n",
        "import matplotlib.pyplot as plt\n",
        "import cupy\n",
        "import cupyx\n",
        "import scipy.sparse as sps\n",
        "import scipy.sparse.linalg as spsl"
      ],
      "execution_count": 34,
      "outputs": []
    },
    {
      "cell_type": "markdown",
      "metadata": {
        "id": "uuUp0TcVeDbp",
        "colab_type": "text"
      },
      "source": [
        "# Defining Function to get SPARSE Matrix"
      ]
    },
    {
      "cell_type": "markdown",
      "metadata": {
        "id": "PlTtUjpJefSY",
        "colab_type": "text"
      },
      "source": [
        "Using Eigen as Default Linear Algebra Backend."
      ]
    },
    {
      "cell_type": "code",
      "metadata": {
        "id": "FG4aNyzUGr26",
        "colab_type": "code",
        "colab": {}
      },
      "source": [
        "fe.parameters['linear_algebra_backend'] = 'Eigen'\n",
        "def tran2SparseMatrix(A):\n",
        "    row, col, val = fe.as_backend_type(A).data()\n",
        "    return sps.csr_matrix((val, col, row))"
      ],
      "execution_count": 35,
      "outputs": []
    },
    {
      "cell_type": "markdown",
      "metadata": {
        "id": "jE4wYQjjfEPm",
        "colab_type": "text"
      },
      "source": [
        "Using  Poisson's Equation. \\\n",
        "Grid Points = 63001"
      ]
    },
    {
      "cell_type": "code",
      "metadata": {
        "id": "ibRQq8JXGwCa",
        "colab_type": "code",
        "colab": {}
      },
      "source": [
        "# Create mesh and define function space\n",
        "mesh = UnitSquareMesh(250, 250)\n",
        "V = FunctionSpace(mesh, \"Lagrange\", 1)\n",
        "\n",
        "# Define Dirichlet boundary (x = 0 or x = 1)\n",
        "def boundary(x):\n",
        "    return x[0] < DOLFIN_EPS or x[0] > 1.0 - DOLFIN_EPS\n",
        "\n",
        "# Define boundary condition\n",
        "u0 = Constant(0.0)\n",
        "bc = DirichletBC(V, u0, boundary)\n",
        "\n",
        "# Define variational problem\n",
        "u = TrialFunction(V)\n",
        "v = TestFunction(V)\n",
        "f = Expression(\"10*exp(-(pow(x[0] - 0.5, 2) + pow(x[1] - 0.5, 2)) / 0.02)\",degree=0)\n",
        "g = Expression(\"sin(5*x[0])\",degree=0)\n",
        "a = inner(grad(u), grad(v))*dx\n",
        "L = f*v*dx + g*v*ds\n",
        "\n",
        "# Compute solution on GPU\n",
        "\n",
        "A = assemble(a)\n",
        "b = assemble(L)\n"
      ],
      "execution_count": 36,
      "outputs": []
    },
    {
      "cell_type": "markdown",
      "metadata": {
        "id": "-w92l8arfnCD",
        "colab_type": "text"
      },
      "source": [
        "Allocating 10.5 GB of GPU memory to cuPy"
      ]
    },
    {
      "cell_type": "code",
      "metadata": {
        "id": "pT_I8ziFGyYl",
        "colab_type": "code",
        "colab": {}
      },
      "source": [
        "mempool = cupy.get_default_memory_pool()\n",
        "\n",
        "with cupy.cuda.Device(0):\n",
        "    mempool.set_limit(size=10.5*1024**3)"
      ],
      "execution_count": 37,
      "outputs": []
    },
    {
      "cell_type": "markdown",
      "metadata": {
        "id": "kCJdfCc5f9KK",
        "colab_type": "text"
      },
      "source": [
        "Applying Boundary conditions\\\n",
        "Converting SPARSE Matrix from dolfin.cpp.la.Matrix"
      ]
    },
    {
      "cell_type": "code",
      "metadata": {
        "id": "ncbtnRWEG1Nk",
        "colab_type": "code",
        "colab": {}
      },
      "source": [
        "bc.apply(A, b)\n",
        "A = tran2SparseMatrix(A)\n",
        "b = b[:]"
      ],
      "execution_count": 38,
      "outputs": []
    },
    {
      "cell_type": "markdown",
      "metadata": {
        "id": "1CN8ewAUgDHJ",
        "colab_type": "text"
      },
      "source": [
        "# CPU\n",
        "Solve Assembled Matrix with CPU using Least Square Method on all available cores. (Don't need to call MPI)\\\n",
        "Using SciPy on CPU (Least Square Method on Sparse Matrix)"
      ]
    },
    {
      "cell_type": "code",
      "metadata": {
        "id": "GLrfWt_zG53E",
        "colab_type": "code",
        "colab": {
          "base_uri": "https://localhost:8080/",
          "height": 286
        },
        "outputId": "a2e8d120-97e9-4bfe-97f1-2e0be8d8c27b"
      },
      "source": [
        "file = File('Poisson/poisson_lsqr_CPU.pvd')\n",
        "u = Function(V)\n",
        "start = time.time()\n",
        "u.vector()[:] = spsl.lsqr(A, b)[:1][0]\n",
        "end = time.time()\n",
        "print(\"lsqr_CPU(s)\",end - start)\n",
        "file << u\n",
        "plot(u)\n",
        "plt.show()"
      ],
      "execution_count": 45,
      "outputs": [
        {
          "output_type": "stream",
          "text": [
            "lsqr_CPU(s) 125.51488852500916\n"
          ],
          "name": "stdout"
        },
        {
          "output_type": "display_data",
          "data": {
            "image/png": "[encoded data removed]",
            "text/plain": [
              "<Figure size 432x288 with 1 Axes>"
            ]
          },
          "metadata": {
            "tags": [],
            "needs_background": "light"
          }
        }
      ]
    },
    {
      "cell_type": "markdown",
      "metadata": {
        "id": "XMyNVPsugrbm",
        "colab_type": "text"
      },
      "source": [
        "# GPU\n",
        "Using cuPy on GPU (Least Square Method on Sparse Matrix)"
      ]
    },
    {
      "cell_type": "code",
      "metadata": {
        "id": "izX4IrzGG62T",
        "colab_type": "code",
        "colab": {
          "base_uri": "https://localhost:8080/",
          "height": 286
        },
        "outputId": "52e12e46-8ff9-4d9c-b4ea-9b33aeff0990"
      },
      "source": [
        "file = File('Poisson/poisson_lsqr_GPU.pvd')\n",
        "u = Function(V)\n",
        "start = time.time()\n",
        "As = cupyx.scipy.sparse.csr_matrix(A)\n",
        "bs = cupy.array(b)\n",
        "u.vector()[:] = cupy.asnumpy(cupyx.scipy.sparse.linalg.lsqr(As, bs)[:1][0])\n",
        "end = time.time()\n",
        "print(\"lsqr_GPU(s)\",end - start)\n",
        "file << u\n",
        "plot(u)\n",
        "plt.show()"
      ],
      "execution_count": 44,
      "outputs": [
        {
          "output_type": "stream",
          "text": [
            "lsqr_GPU(s) 3.3168442249298096\n"
          ],
          "name": "stdout"
        },
        {
          "output_type": "display_data",
          "data": {
            "image/png": "[encoded data removed]",
            "text/plain": [
              "<Figure size 432x288 with 1 Axes>"
            ]
          },
          "metadata": {
            "tags": [],
            "needs_background": "light"
          }
        }
      ]
    }
  ]
}